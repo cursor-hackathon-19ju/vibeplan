{
 "cells": [
  {
   "cell_type": "markdown",
   "metadata": {},
   "source": [
    "# ChromaDB Query Testing\n",
    "Testing semantic keyword generation and vector DB query results"
   ]
  },
  {
   "cell_type": "code",
   "execution_count": null,
   "metadata": {},
   "outputs": [],
   "source": [
    "import chromadb\n",
    "from chromadb.utils import embedding_functions\n",
    "import os\n",
    "import json\n",
    "from typing import List, Dict"
   ]
  },
  {
   "cell_type": "code",
   "execution_count": null,
   "metadata": {},
   "outputs": [],
   "source": "# Set OpenAI API key from environment\n# Make sure to set OPENAI_API_KEY in your environment or .env.local file\n# Example: export OPENAI_API_KEY=\"your-key-here\"\n\nimport os\nfrom dotenv import load_dotenv\n\n# Load environment variables\nload_dotenv('.env.local')\n\nif not os.getenv('OPENAI_API_KEY'):\n    raise ValueError(\"OPENAI_API_KEY not found in environment. Please set it in .env.local\")\n\n# Connect to ChromaDB\nchroma_client = chromadb.PersistentClient(path=\"./data/chroma_db\")\nembedding_function = embedding_functions.OpenAIEmbeddingFunction(\n    api_key=os.environ['OPENAI_API_KEY'],\n    model_name=\"text-embedding-3-small\"\n)\n\ncollection = chroma_client.get_collection(\n    name=\"telegram_activities\",\n    embedding_function=embedding_function\n)\n\nprint(f\"✅ Connected to collection: {collection.name}\")\nprint(f\"📊 Total activities: {collection.count()}\")"
  },
  {
   "cell_type": "code",
   "execution_count": null,
   "metadata": {},
   "outputs": [],
   "source": [
    "# Semantic keyword builder (matching keywords.ts logic)\n",
    "def build_semantic_keywords(params: Dict) -> str:\n",
    "    \"\"\"Build semantic keywords from user preferences\"\"\"\n",
    "    keywords = []\n",
    "    \n",
    "    # Add user query\n",
    "    if params.get('query'):\n",
    "        keywords.append(params['query'])\n",
    "    \n",
    "    # Add activity types\n",
    "    if params.get('activities'):\n",
    "        keywords.extend([a.lower() for a in params['activities']])\n",
    "    \n",
    "    # Budget mapping\n",
    "    budget_keywords = {\n",
    "        0: ['free', 'cheap', 'budget-friendly', 'under $30'],\n",
    "        1: ['affordable', 'budget', 'economical', '$30-50'],\n",
    "        2: ['moderate', 'mid-range', '$50-75'],\n",
    "        3: ['comfortable', 'premium', 'upscale', '$75-100'],\n",
    "        4: ['luxury', 'high-end', 'expensive', '$100+']\n",
    "    }\n",
    "    budget = params.get('budget', 2)\n",
    "    if budget in budget_keywords:\n",
    "        keywords.extend(budget_keywords[budget][:2])  # Take first 2\n",
    "    \n",
    "    # Group size mapping\n",
    "    pax_keywords = {\n",
    "        'solo': ['solo', 'alone', 'individual', 'self'],\n",
    "        'date': ['romantic', 'couple', 'date', 'intimate'],\n",
    "        'friends': ['group', 'friends', 'social', 'gathering'],\n",
    "        'family': ['family', 'kids', 'children', 'all-ages']\n",
    "    }\n",
    "    num_pax = params.get('numPax', '').lower()\n",
    "    if num_pax in pax_keywords:\n",
    "        keywords.extend(pax_keywords[num_pax][:2])\n",
    "    \n",
    "    # MBTI personality traits\n",
    "    mbti_keywords = {\n",
    "        'INTJ': ['strategic', 'independent', 'intellectual'],\n",
    "        'INTP': ['analytical', 'curious', 'theoretical'],\n",
    "        'ENTJ': ['leadership', 'ambitious', 'organized'],\n",
    "        'ENTP': ['innovative', 'debate', 'entrepreneurial'],\n",
    "        'INFJ': ['meaningful', 'creative', 'idealistic'],\n",
    "        'INFP': ['authentic', 'artistic', 'introspective'],\n",
    "        'ENFJ': ['inspiring', 'empathetic', 'community'],\n",
    "        'ENFP': ['creative', 'spontaneous', 'social', 'adventurous', 'enthusiastic'],\n",
    "        'ISTJ': ['traditional', 'reliable', 'structured'],\n",
    "        'ISFJ': ['caring', 'detail-oriented', 'supportive'],\n",
    "        'ESTJ': ['organized', 'practical', 'efficient'],\n",
    "        'ESFJ': ['social', 'warm', 'cooperative'],\n",
    "        'ISTP': ['hands-on', 'practical', 'flexible'],\n",
    "        'ISFP': ['artistic', 'gentle', 'present-moment'],\n",
    "        'ESTP': ['energetic', 'action-oriented', 'bold'],\n",
    "        'ESFP': ['entertaining', 'spontaneous', 'fun-loving']\n",
    "    }\n",
    "    mbti = params.get('mbti', '').upper()\n",
    "    if mbti in mbti_keywords:\n",
    "        keywords.extend(mbti_keywords[mbti])\n",
    "    \n",
    "    # Spicy mode (nightlife)\n",
    "    if params.get('spicy'):\n",
    "        keywords.extend(['nightlife', 'drinks', 'bars', 'clubs', 'evening'])\n",
    "    \n",
    "    return ' '.join(keywords)\n",
    "\n",
    "print(\"✅ Semantic keyword builder ready\")"
   ]
  },
  {
   "cell_type": "code",
   "execution_count": null,
   "metadata": {},
   "outputs": [],
   "source": [
    "def query_and_display(user_params: Dict, n_results: int = 10):\n",
    "    \"\"\"Query ChromaDB and display results\"\"\"\n",
    "    \n",
    "    # Build semantic query\n",
    "    semantic_query = build_semantic_keywords(user_params)\n",
    "    \n",
    "    print(\"\\n\" + \"=\"*80)\n",
    "    print(\"🔍 USER QUERY\")\n",
    "    print(\"=\"*80)\n",
    "    print(f\"Original query: {user_params.get('query', 'N/A')}\")\n",
    "    print(f\"Activities: {user_params.get('activities', [])}\")\n",
    "    print(f\"Budget: {user_params.get('budget', 2)} (0=Broke, 2=Moderate, 4=Baller)\")\n",
    "    print(f\"Group: {user_params.get('numPax', 'N/A')}\")\n",
    "    print(f\"MBTI: {user_params.get('mbti', 'N/A')}\")\n",
    "    print(f\"Spicy: {user_params.get('spicy', False)}\")\n",
    "    \n",
    "    print(\"\\n\" + \"-\"*80)\n",
    "    print(\"🔑 SEMANTIC KEYWORDS GENERATED:\")\n",
    "    print(\"-\"*80)\n",
    "    print(f\"{semantic_query}\")\n",
    "    \n",
    "    # Query ChromaDB\n",
    "    results = collection.query(\n",
    "        query_texts=[semantic_query],\n",
    "        n_results=n_results\n",
    "    )\n",
    "    \n",
    "    print(\"\\n\" + \"-\"*80)\n",
    "    print(f\"📊 RESULTS: Found {len(results['ids'][0])} activities\")\n",
    "    print(\"-\"*80)\n",
    "    \n",
    "    # Display results\n",
    "    for i in range(len(results['ids'][0])):\n",
    "        metadata = results['metadatas'][0][i]\n",
    "        distance = results['distances'][0][i] if 'distances' in results else None\n",
    "        \n",
    "        if metadata and 'full_data' in metadata:\n",
    "            full_data = json.loads(metadata['full_data'])\n",
    "            \n",
    "            print(f\"\\n{i+1}. {full_data.get('title', 'Untitled')}\")\n",
    "            if distance is not None:\n",
    "                print(f\"   Distance: {distance:.4f}\")\n",
    "            print(f\"   Description: {full_data.get('description', 'N/A')[:150]}...\")\n",
    "            print(f\"   Location: {full_data.get('location', 'N/A')}\")\n",
    "            print(f\"   Venue: {full_data.get('venue_name', 'N/A')}\")\n",
    "            print(f\"   Price: ${full_data.get('price', 'N/A')}\")\n",
    "            print(f\"   Tags: {', '.join(full_data.get('tags', [])[:5])}\")\n",
    "            print(f\"   Source: {full_data.get('source_channel', 'N/A')}\")\n",
    "    \n",
    "    print(\"\\n\" + \"=\"*80 + \"\\n\")\n",
    "    return results"
   ]
  },
  {
   "cell_type": "markdown",
   "metadata": {},
   "source": [
    "## Test Case 1: Romantic Date\n",
    "Budget-conscious couple looking for a romantic experience"
   ]
  },
  {
   "cell_type": "code",
   "execution_count": null,
   "metadata": {},
   "outputs": [],
   "source": [
    "test_1 = {\n",
    "    'query': 'romantic dinner date with creative twist',\n",
    "    'activities': ['Cafes', 'Museums'],\n",
    "    'budget': 2,  # Moderate\n",
    "    'numPax': 'date',\n",
    "    'mbti': 'ENFP',\n",
    "    'spicy': False\n",
    "}\n",
    "\n",
    "results_1 = query_and_display(test_1, n_results=10)"
   ]
  },
  {
   "cell_type": "markdown",
   "metadata": {},
   "source": [
    "## Test Case 2: Budget-Friendly Solo Activity\n",
    "Introvert looking for affordable solo activities"
   ]
  },
  {
   "cell_type": "code",
   "execution_count": null,
   "metadata": {},
   "outputs": [],
   "source": [
    "test_2 = {\n",
    "    'query': 'Chill activities for introverts under $30',\n",
    "    'activities': ['Parks', 'Cafes'],\n",
    "    'budget': 0,  # Broke\n",
    "    'numPax': 'solo',\n",
    "    'mbti': 'INFP',\n",
    "    'spicy': False\n",
    "}\n",
    "\n",
    "results_2 = query_and_display(test_2, n_results=10)"
   ]
  },
  {
   "cell_type": "markdown",
   "metadata": {},
   "source": [
    "## Test Case 3: Luxury Group Experience\n",
    "High-budget group looking for premium experiences"
   ]
  },
  {
   "cell_type": "code",
   "execution_count": null,
   "metadata": {},
   "outputs": [],
   "source": [
    "test_3 = {\n",
    "    'query': 'Luxury dining and entertainment for special celebration',\n",
    "    'activities': ['Fine Dining', 'Bars'],\n",
    "    'budget': 4,  # Baller\n",
    "    'numPax': 'friends',\n",
    "    'mbti': 'ENTJ',\n",
    "    'spicy': True\n",
    "}\n",
    "\n",
    "results_3 = query_and_display(test_3, n_results=10)"
   ]
  },
  {
   "cell_type": "markdown",
   "metadata": {},
   "source": [
    "## Test Case 4: Family-Friendly Day Out\n",
    "Family looking for kid-friendly activities"
   ]
  },
  {
   "cell_type": "code",
   "execution_count": null,
   "metadata": {},
   "outputs": [],
   "source": [
    "test_4 = {\n",
    "    'query': 'Fun family day out with activities for kids',\n",
    "    'activities': ['Parks', 'Museums', 'Attractions'],\n",
    "    'budget': 2,  # Moderate\n",
    "    'numPax': 'family',\n",
    "    'mbti': 'ESFJ',\n",
    "    'spicy': False\n",
    "}\n",
    "\n",
    "results_4 = query_and_display(test_4, n_results=10)"
   ]
  },
  {
   "cell_type": "markdown",
   "metadata": {},
   "source": [
    "## Test Case 5: Adventure Seeker\n",
    "Looking for unique and adventurous experiences"
   ]
  },
  {
   "cell_type": "code",
   "execution_count": null,
   "metadata": {},
   "outputs": [],
   "source": [
    "test_5 = {\n",
    "    'query': 'Unique outdoor adventures and thrilling experiences',\n",
    "    'activities': ['Sports', 'Outdoors'],\n",
    "    'budget': 3,  # Comfortable\n",
    "    'numPax': 'friends',\n",
    "    'mbti': 'ESTP',\n",
    "    'spicy': False\n",
    "}\n",
    "\n",
    "results_5 = query_and_display(test_5, n_results=10)"
   ]
  },
  {
   "cell_type": "markdown",
   "metadata": {},
   "source": [
    "## Test Case 6: Cultural Experience\n",
    "Looking for art, culture, and intellectual experiences"
   ]
  },
  {
   "cell_type": "code",
   "execution_count": null,
   "metadata": {},
   "outputs": [],
   "source": [
    "test_6 = {\n",
    "    'query': 'Art galleries, cultural sites, and intellectual cafes',\n",
    "    'activities': ['Museums', 'Art', 'Cafes'],\n",
    "    'budget': 2,  # Moderate\n",
    "    'numPax': 'solo',\n",
    "    'mbti': 'INTJ',\n",
    "    'spicy': False\n",
    "}\n",
    "\n",
    "results_6 = query_and_display(test_6, n_results=10)"
   ]
  },
  {
   "cell_type": "markdown",
   "metadata": {},
   "source": [
    "## Analysis: Keyword Effectiveness\n",
    "Compare results with and without semantic enrichment"
   ]
  },
  {
   "cell_type": "code",
   "execution_count": null,
   "metadata": {},
   "outputs": [],
   "source": [
    "# Test with just the raw query (no semantic enrichment)\n",
    "raw_query = \"romantic dinner date with creative twist\"\n",
    "print(\"\\n\" + \"=\"*80)\n",
    "print(\"🔍 RAW QUERY (No Semantic Enrichment)\")\n",
    "print(\"=\"*80)\n",
    "print(f\"Query: {raw_query}\\n\")\n",
    "\n",
    "raw_results = collection.query(\n",
    "    query_texts=[raw_query],\n",
    "    n_results=5\n",
    ")\n",
    "\n",
    "print(\"Top 5 Results (Raw Query):\")\n",
    "for i in range(len(raw_results['ids'][0])):\n",
    "    metadata = raw_results['metadatas'][0][i]\n",
    "    if metadata and 'full_data' in metadata:\n",
    "        full_data = json.loads(metadata['full_data'])\n",
    "        print(f\"{i+1}. {full_data.get('title', 'Untitled')}\")\n",
    "\n",
    "# Now test with semantic enrichment\n",
    "enriched_query = build_semantic_keywords(test_1)\n",
    "print(\"\\n\" + \"=\"*80)\n",
    "print(\"🔑 ENRICHED QUERY (With Semantic Keywords)\")\n",
    "print(\"=\"*80)\n",
    "print(f\"Query: {enriched_query}\\n\")\n",
    "\n",
    "enriched_results = collection.query(\n",
    "    query_texts=[enriched_query],\n",
    "    n_results=5\n",
    ")\n",
    "\n",
    "print(\"Top 5 Results (Enriched Query):\")\n",
    "for i in range(len(enriched_results['ids'][0])):\n",
    "    metadata = enriched_results['metadatas'][0][i]\n",
    "    if metadata and 'full_data' in metadata:\n",
    "        full_data = json.loads(metadata['full_data'])\n",
    "        print(f\"{i+1}. {full_data.get('title', 'Untitled')}\")\n",
    "\n",
    "print(\"\\n\" + \"=\"*80)"
   ]
  }
 ],
 "metadata": {
  "kernelspec": {
   "display_name": "Python 3",
   "language": "python",
   "name": "python3"
  },
  "language_info": {
   "codemirror_mode": {
    "name": "ipython",
    "version": 3
   },
   "file_extension": ".py",
   "mimetype": "text/x-python",
   "name": "python",
   "nbconvert_exporter": "python",
   "pygments_lexer": "ipython3",
   "version": "3.9.6"
  }
 },
 "nbformat": 4,
 "nbformat_minor": 4
}